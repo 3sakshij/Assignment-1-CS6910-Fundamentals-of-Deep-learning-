{
  "cells": [
    {
      "cell_type": "markdown",
      "source": [
        "# **Importing Libraries and Creating dataset**"
      ],
      "metadata": {
        "id": "nMdWDTO14wwz"
      }
    },
    {
      "cell_type": "code",
      "source": [
        "import numpy as np\n",
        "import pandas as pd\n",
        "from tensorflow.keras.datasets import mnist, fashion_mnist\n",
        "from sklearn.model_selection import train_test_split\n",
        "from tqdm import tqdm_notebook \n"
      ],
      "metadata": {
        "id": "XCvkhj5P47_d"
      },
      "execution_count": 2,
      "outputs": []
    },
    {
      "cell_type": "code",
      "source": [
        "(X, Y), (x_test, y_test) = fashion_mnist.load_data()"
      ],
      "metadata": {
        "colab": {
          "base_uri": "https://localhost:8080/"
        },
        "id": "Tq0peDNO9bfx",
        "outputId": "b1c4e7d1-36e3-43f0-dbe9-2ea45feadabc"
      },
      "execution_count": 3,
      "outputs": [
        {
          "output_type": "stream",
          "name": "stdout",
          "text": [
            "Downloading data from https://storage.googleapis.com/tensorflow/tf-keras-datasets/train-labels-idx1-ubyte.gz\n",
            "29515/29515 [==============================] - 0s 0us/step\n",
            "Downloading data from https://storage.googleapis.com/tensorflow/tf-keras-datasets/train-images-idx3-ubyte.gz\n",
            "26421880/26421880 [==============================] - 1s 0us/step\n",
            "Downloading data from https://storage.googleapis.com/tensorflow/tf-keras-datasets/t10k-labels-idx1-ubyte.gz\n",
            "5148/5148 [==============================] - 0s 0us/step\n",
            "Downloading data from https://storage.googleapis.com/tensorflow/tf-keras-datasets/t10k-images-idx3-ubyte.gz\n",
            "4422102/4422102 [==============================] - 0s 0us/step\n"
          ]
        }
      ]
    },
    {
      "cell_type": "code",
      "source": [
        "X.shape ,x_test.shape, Y.shape, y_test.shape"
      ],
      "metadata": {
        "colab": {
          "base_uri": "https://localhost:8080/"
        },
        "id": "-CMK9gCzIFdt",
        "outputId": "1f417a8b-fd41-4d49-cf75-e0bbc7cd801e"
      },
      "execution_count": 12,
      "outputs": [
        {
          "output_type": "execute_result",
          "data": {
            "text/plain": [
              "((60000, 28, 28), (10000, 28, 28), (60000,), (10000,))"
            ]
          },
          "metadata": {},
          "execution_count": 12
        }
      ]
    },
    {
      "cell_type": "markdown",
      "source": [
        "# **Data Preprocessing**"
      ],
      "metadata": {
        "id": "MOQfHlqaHw8f"
      }
    },
    {
      "cell_type": "code",
      "source": [
        "# Normalization of pixel values \n",
        "X = X/255.0\n",
        "x_test = x_test/255.0\n",
        "    \n",
        "#Splitting train dataset by considering 15% of it for validation dataset\n",
        "x_train, x_val, y_train, y_val = train_test_split(X, Y, test_size=0.15, random_state=42)\n",
        "#one hot encoding for train and val dataset labels\n",
        "    \n",
        "y_train_final = np.zeros((y_train.size, y_train.max() + 1))  \n",
        "#print(y_train_final[0])\n",
        "y_train_final[np.arange(y_train.size), y_train] = 1\n",
        "\n",
        "y_val_final = np.zeros((y_val.size, y_val.max() + 1))\n",
        "y_val_final[np.arange(y_val.size), y_val] = 1\n",
        "    \n",
        "   \n",
        "\n",
        "     "
      ],
      "metadata": {
        "id": "yE2TgraQ5sMk"
      },
      "execution_count": 55,
      "outputs": []
    },
    {
      "cell_type": "markdown",
      "source": [
        "# Feed Fordward Network"
      ],
      "metadata": {
        "id": "NBQPolYdMsq6"
      }
    },
    {
      "cell_type": "code",
      "source": [
        "\n",
        "\n",
        "def feed_forward(x,num_in,num_out,hidden_layers=[2]):\n",
        "\n",
        "   \n",
        "        num_hidden = len(hidden_layers)\n",
        "        total = [num_in] + hidden_layers + [num_out] \n",
        "        # print(num_in)\n",
        "        # print(num_out)\n",
        "        # print(num_hidden)\n",
        "        # print(total)\n",
        "\n",
        "        W = {}\n",
        "        B = {}\n",
        "        for i in range(num_hidden+1):\n",
        "\n",
        "            W[i+1] = np.random.randn(total[i],total[i+1])\n",
        "            B[i+1] = np.zeros((1,total[i+1]))\n",
        "        \n",
        "        A = {}\n",
        "        H = {}\n",
        "        #print(x.shape)\n",
        "        H[0] = x.reshape(1, -1)\n",
        "        for i in range(num_hidden):\n",
        "\n",
        "            A[i+1] = np.matmul(H[i], W[i+1]) + B[i+1]    #preactivation\n",
        "            H[i+1] = sigmoid(A[i+1])                      #activation\n",
        "        #print(\"shape 1 \" , H[num_hidden].shape)\n",
        "        #print(\"shape 2 \" ,  W[num_hidden+1].shape)\n",
        "        A[num_hidden+1] = np.matmul(H[num_hidden], W[num_hidden+1]) + B[num_hidden+1]\n",
        "      \n",
        "        H[num_hidden+1] = softmax(A[num_hidden+1])\n",
        "        return H[num_hidden+1]\n",
        "    \n",
        "\n",
        "def predict(X,num_in,num_out,hidden_layers):\n",
        "\n",
        "        Y_pred = []\n",
        "        for x in X:\n",
        "            y_pred = feed_forward(x,num_in,num_out,hidden_layers)\n",
        "            Y_pred.append(y_pred)\n",
        "        return np.array(Y_pred).squeeze()\n",
        "\n",
        "def sigmoid(x):\n",
        "  return 1.0/(1.0 + np.exp(-x))\n",
        "    \n",
        "def softmax(x):\n",
        "  exps = np.exp(x)\n",
        "  return exps / np.sum(exps)"
      ],
      "metadata": {
        "id": "N6-CfFgvEsEo"
      },
      "execution_count": 56,
      "outputs": []
    },
    {
      "cell_type": "markdown",
      "source": [
        "# Inputs the Models Parameters \n",
        "\n",
        "*   Dimension for One image (pixel_size * pixel_size)\n",
        "*   Number of output classes\n",
        "*   List Containing number of neurons in each hidden layer"
      ],
      "metadata": {
        "id": "uTsM6vLSLrxz"
      }
    },
    {
      "cell_type": "code",
      "source": [
        "pixel_sizes = x_train.shape[1]*x_train.shape[1]"
      ],
      "metadata": {
        "id": "aK5xJb4UN37g"
      },
      "execution_count": 57,
      "outputs": []
    },
    {
      "cell_type": "code",
      "source": [
        " num_class = Y.max()+1"
      ],
      "metadata": {
        "id": "rVfgnsrPOH21"
      },
      "execution_count": 58,
      "outputs": []
    },
    {
      "cell_type": "code",
      "source": [
        "num_hidden= int(input('What is the number of hidden layers?'))\n"
      ],
      "metadata": {
        "colab": {
          "base_uri": "https://localhost:8080/"
        },
        "id": "6WYdWQqpORvb",
        "outputId": "5cac6892-b7df-48e8-d285-26b2fd8b1186"
      },
      "execution_count": 59,
      "outputs": [
        {
          "name": "stdout",
          "output_type": "stream",
          "text": [
            "What is the number of hidden layers?1\n"
          ]
        }
      ]
    },
    {
      "cell_type": "code",
      "source": [
        "hidden_l = []\n",
        "for i in range(num_hidden):\n",
        "  print(f'What is the number of neurons in hidden layer - {i+1}?')\n",
        "  a = int(input())\n",
        "  hidden_l.append(a)"
      ],
      "metadata": {
        "colab": {
          "base_uri": "https://localhost:8080/"
        },
        "id": "Q5hAdqflOgQQ",
        "outputId": "4cf0d997-6036-4102-936e-71e5f0c558e9"
      },
      "execution_count": 60,
      "outputs": [
        {
          "name": "stdout",
          "output_type": "stream",
          "text": [
            "What is the number of neurons in hidden layer - 1?\n",
            "128\n"
          ]
        }
      ]
    },
    {
      "cell_type": "code",
      "source": [
        "prob_dis = predict(x_train,pixel_sizes,num_class,hidden_l)"
      ],
      "metadata": {
        "id": "_mxgDvs9ATGT"
      },
      "execution_count": 61,
      "outputs": []
    },
    {
      "cell_type": "code",
      "source": [
        "prob_dis[0]"
      ],
      "metadata": {
        "id": "nMG35TsIEEip",
        "colab": {
          "base_uri": "https://localhost:8080/"
        },
        "outputId": "42ec4e99-fb0a-4b94-9e8d-c21375eb879b"
      },
      "execution_count": 64,
      "outputs": [
        {
          "output_type": "execute_result",
          "data": {
            "text/plain": [
              "array([1.91702404e-07, 1.34000134e-06, 5.16368893e-05, 9.69185896e-01,\n",
              "       2.91541423e-04, 2.50646461e-08, 8.21119512e-07, 1.81154580e-03,\n",
              "       1.60516850e-02, 1.26053173e-02])"
            ]
          },
          "metadata": {},
          "execution_count": 64
        }
      ]
    },
    {
      "cell_type": "code",
      "source": [],
      "metadata": {
        "id": "G9CG5OcKR6DH"
      },
      "execution_count": null,
      "outputs": []
    }
  ],
  "metadata": {
    "accelerator": "GPU",
    "colab": {
      "provenance": []
    },
    "gpuClass": "standard",
    "kernelspec": {
      "display_name": "Python 3",
      "name": "python3"
    },
    "language_info": {
      "name": "python"
    }
  },
  "nbformat": 4,
  "nbformat_minor": 0
}